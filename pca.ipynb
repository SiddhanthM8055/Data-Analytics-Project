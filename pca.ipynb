{
 "cells": [
  {
   "cell_type": "code",
   "execution_count": 61,
   "metadata": {},
   "outputs": [],
   "source": [
    "import pandas as pd\n",
    "import math\n",
    "import numpy as np\n",
    "from sklearn import metrics\n",
    "from sklearn.model_selection import train_test_split\n",
    "%matplotlib inline\n",
    "import matplotlib.pyplot as plt\n",
    "import sklearn.preprocessing as pre\n",
    "from sklearn.pipeline import Pipeline\n",
    "\n",
    "x = pd.read_csv(open('/Users/vishwas/Desktop/da_pro/DATA/dengue_features_train.csv', 'r'))\n",
    "y = pd.read_csv(open('/Users/vishwas/Desktop/da_pro/DATA/dengue_labels_train.csv', 'r'))\n",
    "\n",
    "def remove_null(x):\n",
    "    t_f=pd.isnull(x)\n",
    "    for i in t_f:\n",
    "        c=0\n",
    "        if(i=='city' or i=='week_start_date'):\n",
    "            continue \n",
    "        mean_value=x[i].mean()\n",
    "        x[i].fillna(value=mean_value, inplace=True)\n",
    "    \n",
    "\n",
    "\n",
    "iq=x[x.city == \"iq\"]\n",
    "sj=x[x.city == \"sj\"]\n",
    "liq=y[y.city == \"iq\"]\n",
    "lsj=y[y.city == \"sj\"]\n",
    "\n",
    "iq=iq.drop(['city'], axis = 1)\n",
    "sj=sj.drop(['city'], axis = 1)\n",
    "iq=iq.drop(['week_start_date'], axis = 1)\n",
    "sj=sj.drop(['week_start_date'], axis = 1)\n",
    "liq=liq[\"total_cases\"]\n",
    "lsj=lsj[\"total_cases\"]\n",
    "\n",
    "remove_null(iq)\n",
    "remove_null(sj)\n"
   ]
  },
  {
   "cell_type": "code",
   "execution_count": 88,
   "metadata": {},
   "outputs": [],
   "source": [
    "from sklearn.model_selection import train_test_split\n",
    "X_train, X_test, y_train, y_test = train_test_split(iq, liq, test_size = 0.2, random_state = 0)"
   ]
  },
  {
   "cell_type": "code",
   "execution_count": 89,
   "metadata": {},
   "outputs": [
    {
     "data": {
      "text/plain": [
       "(416, 22)"
      ]
     },
     "execution_count": 89,
     "metadata": {},
     "output_type": "execute_result"
    }
   ],
   "source": [
    "X_train.shape"
   ]
  },
  {
   "cell_type": "code",
   "execution_count": 91,
   "metadata": {},
   "outputs": [
    {
     "data": {
      "text/plain": [
       "(416, 22)"
      ]
     },
     "execution_count": 91,
     "metadata": {},
     "output_type": "execute_result"
    }
   ],
   "source": [
    "from sklearn.preprocessing import StandardScaler\n",
    "sc = StandardScaler()\n",
    " \n",
    "X_train = sc.fit_transform(X_train)\n",
    "X_test = sc.transform(X_test)\n",
    "X_train.shape"
   ]
  },
  {
   "cell_type": "code",
   "execution_count": 92,
   "metadata": {},
   "outputs": [],
   "source": [
    "from sklearn.decomposition import PCA\n",
    "elbow=[]\n",
    "ii=[]\n",
    "for i in range(1,22):\n",
    "    pca = PCA(n_components = i)\n",
    "    X_trai =pca.fit_transform(X_train)\n",
    "    X_tes = pca.transform(X_test)\n",
    "    explained_variance = pca.explained_variance_ratio_\n",
    "    elbow.append(sum(explained_variance))\n",
    "    ii.append(i)"
   ]
  },
  {
   "cell_type": "code",
   "execution_count": 93,
   "metadata": {},
   "outputs": [
    {
     "name": "stdout",
     "output_type": "stream",
     "text": [
      "[0.296449917210871, 0.5163052676686601, 0.6457610252980518, 0.7183439869991968, 0.7647660455827243, 0.8039024751999223, 0.8417538349567324, 0.8736625536292131, 0.9036779373822532, 0.9245037325222057, 0.9390141614159427, 0.9529317373111098, 0.9653660070677273, 0.9749532171632942, 0.9836173595096633, 0.9902027381492886, 0.9960416239221793, 0.9990776479227028, 0.9998600983316711, 0.999946423891829, 0.9999999999999997]\n"
     ]
    },
    {
     "data": {
      "text/plain": [
       "(416, 22)"
      ]
     },
     "execution_count": 93,
     "metadata": {},
     "output_type": "execute_result"
    }
   ],
   "source": [
    "print(elbow)\n",
    "X_train.shape"
   ]
  },
  {
   "cell_type": "code",
   "execution_count": 94,
   "metadata": {},
   "outputs": [
    {
     "data": {
      "text/plain": [
       "[<matplotlib.lines.Line2D at 0x7fb75f6e4b10>]"
      ]
     },
     "execution_count": 94,
     "metadata": {},
     "output_type": "execute_result"
    },
    {
     "data": {
      "image/png": "[encoded data removed]",
      "text/plain": [
       "<Figure size 432x288 with 1 Axes>"
      ]
     },
     "metadata": {
      "needs_background": "light"
     },
     "output_type": "display_data"
    }
   ],
   "source": [
    "plt.plot(ii,elbow)"
   ]
  },
  {
   "cell_type": "code",
   "execution_count": 98,
   "metadata": {},
   "outputs": [
    {
     "data": {
      "text/plain": [
       "(416, 10)"
      ]
     },
     "execution_count": 98,
     "metadata": {},
     "output_type": "execute_result"
    }
   ],
   "source": [
    "X_train, X_test, y_train, y_test = train_test_split(iq, liq, test_size = 0.2, random_state = 0)\n",
    "\n",
    "sc = StandardScaler()\n",
    " \n",
    "X_train = sc.fit_transform(X_train)\n",
    "X_test = sc.transform(X_test)\n",
    "pca = PCA(n_components = 10)\n",
    "X_train =pca.fit_transform(X_train)\n",
    "X_test = pca.transform(X_test)\n",
    "explained_variance = pca.explained_variance_ratio_\n",
    "X_train.shape"
   ]
  },
  {
   "cell_type": "code",
   "execution_count": 99,
   "metadata": {},
   "outputs": [
    {
     "data": {
      "text/plain": [
       "array([[ 1.43807639, -0.14038411, -0.82616452, ..., -0.03489958,\n",
       "         0.82521631, -0.32721918],\n",
       "       [ 1.69745014, -0.13954177,  3.24694796, ...,  0.16846982,\n",
       "         1.30064336, -0.42137716],\n",
       "       [ 2.4173368 ,  3.9220442 ,  1.16721873, ..., -0.42625284,\n",
       "        -0.07196314, -0.2466022 ],\n",
       "       ...,\n",
       "       [ 4.277609  ,  0.25386121, -0.66533125, ..., -0.95733414,\n",
       "         0.55461056, -0.84237613],\n",
       "       [-1.15547085,  6.04197268,  1.74642247, ..., -0.60670797,\n",
       "         0.14085432, -0.00961531],\n",
       "       [-2.18676019, -0.49849988, -1.31772844, ...,  0.36565108,\n",
       "        -0.8200854 ,  0.0483757 ]])"
      ]
     },
     "execution_count": 99,
     "metadata": {},
     "output_type": "execute_result"
    }
   ],
   "source": []
  },
  {
   "cell_type": "code",
   "execution_count": null,
   "metadata": {},
   "outputs": [],
   "source": []
  }
 ],
 "metadata": {
  "kernelspec": {
   "display_name": "Python 3",
   "language": "python",
   "name": "python3"
  },
  "language_info": {
   "codemirror_mode": {
    "name": "ipython",
    "version": 3
   },
   "file_extension": ".py",
   "mimetype": "text/x-python",
   "name": "python",
   "nbconvert_exporter": "python",
   "pygments_lexer": "ipython3",
   "version": "3.7.4"
  }
 },
 "nbformat": 4,
 "nbformat_minor": 4
}
